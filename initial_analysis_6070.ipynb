{
 "cells": [
  {
   "cell_type": "code",
   "execution_count": null,
   "metadata": {},
   "outputs": [],
   "source": [
    "# Import Package\n",
    "import pandas as pd\n",
    "import numpy as np\n",
    "import matplotlib\n",
    "import matplotlib.pyplot as plt\n",
    "%matplotlib inline\n",
    "matplotlib.style.use('ggplot')\n",
    "\n",
    "from scipy.stats import shapiro\n",
    "from scipy.stats import skew\n",
    "from scipy.stats import kurtosis"
   ]
  },
  {
   "cell_type": "markdown",
   "metadata": {},
   "source": [
    "Load data"
   ]
  },
  {
   "cell_type": "code",
   "execution_count": null,
   "metadata": {},
   "outputs": [],
   "source": [
    "# Load Data\n",
    "gradStudents = pd.read_csv('grad-students.csv')\n",
    "recentGrads = pd.read_csv('recent-grads.csv')\n",
    "majorList = pd.read_csv('majors-list.csv')\n",
    "allAges = pd.read_csv('all-ages.csv')\n",
    "womenStem = pd.read_csv('women-stem.csv')"
   ]
  },
  {
   "cell_type": "markdown",
   "metadata": {},
   "source": [
    "First present the basic properties of these tables and seek relationship between. Use *df.info()* and *df.describe()*. We can see that there exists 3 missing value in *recentGrads* and 1 missing value in *majorList*."
   ]
  },
  {
   "cell_type": "code",
   "execution_count": null,
   "metadata": {},
   "outputs": [],
   "source": [
    "gradStudents.info()"
   ]
  },
  {
   "cell_type": "code",
   "execution_count": null,
   "metadata": {},
   "outputs": [],
   "source": [
    "recentGrads.info()"
   ]
  },
  {
   "cell_type": "code",
   "execution_count": null,
   "metadata": {},
   "outputs": [],
   "source": [
    "majorList.info()"
   ]
  },
  {
   "cell_type": "code",
   "execution_count": null,
   "metadata": {},
   "outputs": [],
   "source": [
    "allAges.info()"
   ]
  },
  {
   "cell_type": "code",
   "execution_count": null,
   "metadata": {},
   "outputs": [],
   "source": [
    "womenStem.info()"
   ]
  },
  {
   "cell_type": "markdown",
   "metadata": {},
   "source": [
    "Next, present the summary statistics of the data. We can see that \n",
    "- *majorList* provides a reference between major codes and major names, which also indicates the major category belong to. Notice that the information of *majorList* is contained in other tables.\n",
    "\n",
    "- *womenStem* provides information of composition of men and women in each major, which is contained in *recentGrads*.\n",
    "\n",
    "- *allAge* provides employment statistics of all-aged graduate students.\n",
    "\n",
    "- *recentGrads* provides employment statistics of recent graduate students. Comparing to *allAged*, *recentGrads* give out more details of employment.\n",
    "\n",
    "- *gradStudents* also provides employment statistics of recent graduate students. Coparing to *recent Gards*, *gradStudents* further provides information of employment statistics of non-graduate students."
   ]
  },
  {
   "cell_type": "code",
   "execution_count": null,
   "metadata": {},
   "outputs": [],
   "source": [
    "majorList.describe()"
   ]
  },
  {
   "cell_type": "code",
   "execution_count": null,
   "metadata": {},
   "outputs": [],
   "source": [
    "womenStem.describe()"
   ]
  },
  {
   "cell_type": "code",
   "execution_count": null,
   "metadata": {},
   "outputs": [],
   "source": [
    "allAges.describe()"
   ]
  },
  {
   "cell_type": "code",
   "execution_count": null,
   "metadata": {},
   "outputs": [],
   "source": [
    "recentGrads.describe()"
   ]
  },
  {
   "cell_type": "code",
   "execution_count": null,
   "metadata": {},
   "outputs": [],
   "source": [
    "gradStudents.describe()"
   ]
  },
  {
   "cell_type": "markdown",
   "metadata": {},
   "source": [
    "It's not necessary to explore attributes of table *majorList* and *womenStem*. The rest three tables are shown as follows, actually, they are similar. "
   ]
  },
  {
   "cell_type": "markdown",
   "metadata": {},
   "source": [
    "## Barplot\n",
    "\n",
    "Barplot for *gradStudents*. All the variables are left-skewed. The long tail in number of graduate students and salary suggest great difference on employment among different majors."
   ]
  },
  {
   "cell_type": "code",
   "execution_count": null,
   "metadata": {},
   "outputs": [],
   "source": [
    "col = gradStudents.columns[3:]\n",
    "plt.figure(figsize=(20,16))\n",
    "plt.subplots_adjust(hspace=0.4,wspace=0.4)\n",
    "for i in range(len(col)):\n",
    "    plt.subplot(4, 5, i+1)\n",
    "    plt.hist(gradStudents[col[i]].dropna())\n",
    "    plt.title(col[i])"
   ]
  },
  {
   "cell_type": "markdown",
   "metadata": {},
   "source": [
    "The bar plot of these variables are as Figure 1. We can see that, all variables are left-skewed. Most variables, including Grad_total, Grad_employed, Grad_unemployed, Grad_unemployment_rate, Grad_median, Nongrad_total, Nongrad_employed, Nongrad_unemployed, Nongrad_unemployment_rate, Nongrad_median, are wide-spread and have a long tail, which suggests great difference among different majors.\n",
    "We also perform the normality test on variables. All variables don’t follow a normal distribution, which is consistent with the histograms."
   ]
  },
  {
   "cell_type": "markdown",
   "metadata": {},
   "source": [
    "Barplot for *allAges*."
   ]
  },
  {
   "cell_type": "code",
   "execution_count": null,
   "metadata": {},
   "outputs": [],
   "source": [
    "col = allAges.columns[3:]\n",
    "plt.figure(figsize=(16, 8))\n",
    "plt.subplots_adjust(hspace=0.4,wspace=0.4)\n",
    "for i in range(len(col)):\n",
    "    plt.subplot(2, 4, i+1)\n",
    "    plt.hist(allAges[col[i]].dropna())\n",
    "    plt.title(col[i])"
   ]
  },
  {
   "cell_type": "markdown",
   "metadata": {},
   "source": [
    "Barplots for *recentGrads*"
   ]
  },
  {
   "cell_type": "code",
   "execution_count": null,
   "metadata": {},
   "outputs": [],
   "source": [
    "col = recentGrads.columns[3:]\n",
    "col = list(col)\n",
    "col.remove('Major_category')\n",
    "plt.figure(figsize=(20, 16))\n",
    "plt.subplots_adjust(hspace=0.4,wspace=0.4)\n",
    "for i in range(len(col)):\n",
    "    plt.subplot(4, 5, i+1)\n",
    "    plt.hist(recentGrads[col[i]].dropna())\n",
    "    plt.title(col[i])"
   ]
  },
  {
   "cell_type": "markdown",
   "metadata": {},
   "source": [
    "## Normality Test\n",
    "\n",
    "Test normality on gradStudents."
   ]
  },
  {
   "cell_type": "code",
   "execution_count": null,
   "metadata": {},
   "outputs": [],
   "source": [
    "def normality_test(df, col_list):\n",
    "    \"\"\"\n",
    "    Given a dataframe determines whether each numerical column is Gaussian \n",
    "    H0 = Assumes distribution is Gaussian\n",
    "    H1 = Assumes distribution is not Gaussian\n",
    "    Params:\n",
    "        - df\n",
    "    Returns:\n",
    "        - W Statistic\n",
    "        - p-value\n",
    "        - List of columns that do not have gaussian distribution\n",
    "    \"\"\"\n",
    "    non_gauss=[]\n",
    "    w_stat=[]\n",
    "    # Determine if each sample of numerical feature is gaussian\n",
    "    alpha = 0.05\n",
    "    for n in col_list:\n",
    "        c = df[n].dropna()\n",
    "        stat, p=shapiro(c)\n",
    "        print('%s: (%f, %f)'%(n, skew(c),kurtosis(c)))\n",
    "\n",
    "        if p <= alpha: # Reject Ho -- Distribution is not normal\n",
    "            non_gauss.append(n)\n",
    "            w_stat.append(stat)\n",
    "    # Dictionary of numerical features not gaussian and W-Statistic        \n",
    "    norm_dict=dict(zip(non_gauss,w_stat))\n",
    "    return norm_dict\n",
    "\n",
    "normality_test(gradStudents, gradStudents.columns[3:])"
   ]
  },
  {
   "cell_type": "markdown",
   "metadata": {},
   "source": [
    "Test normality for *recentGrads*"
   ]
  },
  {
   "cell_type": "code",
   "execution_count": null,
   "metadata": {},
   "outputs": [],
   "source": [
    "col = list(recentGrads.columns[3:])\n",
    "col.remove('Major_category')\n",
    "normality_test(recentGrads, col)"
   ]
  },
  {
   "cell_type": "markdown",
   "metadata": {},
   "source": [
    "Test normality for *allAges*"
   ]
  },
  {
   "cell_type": "code",
   "execution_count": null,
   "metadata": {},
   "outputs": [],
   "source": [
    "normality_test(allAges, allAges.columns[3:])"
   ]
  },
  {
   "cell_type": "markdown",
   "metadata": {},
   "source": [
    "## Correlation plot\n",
    "\n",
    "Correlation plot for *gradStudents*"
   ]
  },
  {
   "cell_type": "code",
   "execution_count": null,
   "metadata": {},
   "outputs": [],
   "source": [
    "col = gradStudents.columns[3:]\n",
    "plt.matshow(gradStudents.loc[:,col].corr())\n",
    "plt.xticks(range(len(col)), col, rotation=90)\n",
    "plt.yticks(range(len(col)), col)\n",
    "plt.colorbar()\n",
    "plt.show()"
   ]
  },
  {
   "cell_type": "markdown",
   "metadata": {},
   "source": [
    "The correlation plot is above.\n",
    "We can see several highlight blocks. It’s because some variables are correlated, like Grad_total, Grad_employed, Grad_unemployed and some metrics are similar, like Grad_median, Grad_P25, Grad_P75. The correlation actually provides little information for analysis.\n",
    "In addition, we explore the difference between graduate and non-graduate students, using variables unemployment rate and median of salary!"
   ]
  },
  {
   "cell_type": "markdown",
   "metadata": {},
   "source": [
    "Correlation plot for *allAges*"
   ]
  },
  {
   "cell_type": "code",
   "execution_count": null,
   "metadata": {},
   "outputs": [],
   "source": [
    "col = allAges.columns[3:]\n",
    "plt.matshow(allAges.loc[:,col].corr())\n",
    "plt.xticks(range(len(col)), col, rotation=90)\n",
    "plt.yticks(range(len(col)), col)\n",
    "plt.colorbar()\n",
    "plt.show()"
   ]
  },
  {
   "cell_type": "markdown",
   "metadata": {},
   "source": [
    "Correlation plot for *recentGrads*."
   ]
  },
  {
   "cell_type": "code",
   "execution_count": null,
   "metadata": {},
   "outputs": [],
   "source": [
    "col = list(recentGrads.columns[3:])\n",
    "col.remove('Major_category')\n",
    "plt.matshow(recentGrads.loc[:,col].corr())\n",
    "plt.xticks(range(len(col)), col, rotation=90)\n",
    "plt.yticks(range(len(col)), col)\n",
    "plt.colorbar()\n",
    "plt.show()"
   ]
  },
  {
   "cell_type": "markdown",
   "metadata": {},
   "source": [
    "## Distribution Comparison\n",
    "\n",
    "In addition, compare the employment between graduate and non-graduate students, including unemployment rate and median salary."
   ]
  },
  {
   "cell_type": "code",
   "execution_count": null,
   "metadata": {},
   "outputs": [],
   "source": [
    "gradStudents.loc[:,['Grad_unemployment_rate', 'Nongrad_unemployment_rate']].plot(kind='density')\n",
    "gradStudents.loc[:,['Grad_median', 'Nongrad_median']].plot(kind='density')"
   ]
  },
  {
   "cell_type": "markdown",
   "metadata": {},
   "source": [
    "From above, the unemployment rate of non-graduate student is larger than the one of graduate student. The median salary of graduate student is also better than the one of non-graduate students. Thus, the employment of graduate student is better than non-graduate students on average.\n"
   ]
  },
  {
   "cell_type": "markdown",
   "metadata": {},
   "source": [
    "# Conclusion\n"
   ]
  },
  {
   "cell_type": "markdown",
   "metadata": {},
   "source": [
    "The unemployment rate and the median salary can be used as the KPI. Use bar plot to present statistics of each major. Use pie graph to display composition of students, including employed and unemployed, full time and part time. Also, use bar plot or density plot to compare recent and all-age employment status.\n",
    "What types of graphs and charts can be used to clearly explain the data?\n",
    "Histogram and density plot can be used to present the data distribution. Boxplot can be used to compare data with different distribution and know about outliers. Pie graph can be used to explore the composition of data.\n"
   ]
  },
  {
   "cell_type": "code",
   "execution_count": null,
   "metadata": {},
   "outputs": [],
   "source": []
  }
 ],
 "metadata": {
  "kernelspec": {
   "display_name": "Python 3",
   "language": "python",
   "name": "python3"
  },
  "language_info": {
   "codemirror_mode": {
    "name": "ipython",
    "version": 3
   },
   "file_extension": ".py",
   "mimetype": "text/x-python",
   "name": "python",
   "nbconvert_exporter": "python",
   "pygments_lexer": "ipython3",
   "version": "3.7.3"
  }
 },
 "nbformat": 4,
 "nbformat_minor": 2
}
